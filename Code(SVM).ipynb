{
 "cells": [
  {
   "cell_type": "markdown",
   "metadata": {},
   "source": [
    "## Data loading"
   ]
  },
  {
   "cell_type": "code",
   "execution_count": 1,
   "metadata": {},
   "outputs": [],
   "source": [
    "import pandas as pd\n",
    "from sklearn.model_selection import train_test_split"
   ]
  },
  {
   "cell_type": "code",
   "execution_count": 2,
   "metadata": {},
   "outputs": [],
   "source": [
    "data_2020 = pd.read_csv('mhcld_puf_2020.csv')\n",
    "data_2021 = pd.read_csv('mhcld_puf_2021.csv')\n",
    "data_2022 = pd.read_csv('mhcld_puf_2022 2.csv')\n",
    "# it takes time, approximately 15 seconds"
   ]
  },
  {
   "cell_type": "markdown",
   "metadata": {},
   "source": [
    "## Data Preparing"
   ]
  },
  {
   "cell_type": "code",
   "execution_count": 3,
   "metadata": {},
   "outputs": [],
   "source": [
    "selected_columns = [\n",
    "    \"AGE\", \"EDUC\", \"ETHNIC\", \"RACE\", \"GENDER\", \"SPHSERVICE\", \"CMPSERVICE\", \n",
    "    \"OPISERVICE\", \"RTCSERVICE\", \"IJSSERVICE\", \"SUB\", \"MARSTAT\", \"SMISED\", \n",
    "    \"SAP\", \"NUMMHS\", \"EMPLOY\", \"DETNLF\", \"VETERAN\", \"LIVARAG\", \"TRAUSTREFLG\", \"ANXIETYFLG\", \n",
    "    \"ADHDFLG\", \"CONDUCTFLG\", \"DELIRDEMFLG\", \"BIPOLARFLG\", \"DEPRESSFLG\", \n",
    "    \"ODDFLG\", \"PDDFLG\", \"PERSONFLG\", \"SCHIZOFLG\", \"ALCSUBFLG\", \"OTHERDISFLG\", \n",
    "    \"STATEFIP\", \"DIVISION\", \"REGION\"\n",
    "]\n",
    "# Data Cleaning\n",
    "filtered_data_2020 = data_2020[selected_columns]\n",
    "valid_data_2020 = filtered_data_2020[(filtered_data_2020 != -9).all(axis=1)]\n",
    "\n",
    "filtered_data_2021 = data_2021[selected_columns]\n",
    "valid_data_2021 = filtered_data_2021[(filtered_data_2021 != -9).all(axis=1)]\n",
    "\n",
    "filtered_data_2022 = data_2022[selected_columns]\n",
    "valid_data_2022 = filtered_data_2022[(filtered_data_2022 != -9).all(axis=1)]"
   ]
  },
  {
   "cell_type": "code",
   "execution_count": 4,
   "metadata": {},
   "outputs": [
    {
     "name": "stdout",
     "output_type": "stream",
     "text": [
      "Combined training data size: 141680 rows\n",
      "Training data size: 70840 rows\n",
      "Validation data size: 42504 rows\n",
      "Test data size: 28336 rows\n"
     ]
    }
   ],
   "source": [
    "# Data Merging and Index Reset\n",
    "# combined_data = pd.concat([valid_data_2020, valid_data_2021, valid_data_2022], axis=0).reset_index(drop=True)\n",
    "combined_data = pd.concat([valid_data_2020, valid_data_2021, valid_data_2022], axis=0).drop_duplicates().reset_index(drop=True)\n",
    "\n",
    "# Randomize data\n",
    "combined_data = combined_data.sample(frac=1, random_state=42).reset_index(drop=True)\n",
    "\n",
    "# splitting\n",
    "train_size = int(0.5 * len(combined_data))  # 50% to be training data\n",
    "val_size = int(0.3 * len(combined_data))    # 30% to be validation data\n",
    "\n",
    "train_data = combined_data.iloc[:train_size]\n",
    "validation_data = combined_data.iloc[train_size:train_size + val_size]\n",
    "test_data = combined_data.iloc[train_size + val_size:]\n",
    "\n",
    "print(f\"Combined training data size: {len(combined_data)} rows\")\n",
    "print(f\"Training data size: {len(train_data)} rows\")\n",
    "print(f\"Validation data size: {len(validation_data)} rows\")\n",
    "print(f\"Test data size: {len(test_data)} rows\")\n"
   ]
  },
  {
   "cell_type": "code",
   "execution_count": 5,
   "metadata": {},
   "outputs": [
    {
     "name": "stdout",
     "output_type": "stream",
     "text": [
      "Duplicate rows between train and validation: 0\n",
      "Duplicate rows between train and test: 0\n",
      "Duplicate rows between validation and test: 0\n"
     ]
    }
   ],
   "source": [
    "# Check for duplicate rows between train, validation, and test sets\n",
    "duplicate_train_val = pd.merge(train_data, validation_data, how='inner')\n",
    "duplicate_train_test = pd.merge(train_data, test_data, how='inner')\n",
    "duplicate_val_test = pd.merge(validation_data, test_data, how='inner')\n",
    "\n",
    "print(\"Duplicate rows between train and validation:\", len(duplicate_train_val))\n",
    "print(\"Duplicate rows between train and test:\", len(duplicate_train_test))\n",
    "print(\"Duplicate rows between validation and test:\", len(duplicate_val_test))\n"
   ]
  },
  {
   "cell_type": "code",
   "execution_count": 6,
   "metadata": {},
   "outputs": [],
   "source": [
    "# Data Mapping\n",
    "mapping_dict = {\n",
    "    # Personal Characteristics\n",
    "    'AGE': {1: '0-11 years', 2: '12-14 years', 3: '15-17 years', 4: '18-20 years', 5: '21-24 years', 6: '25-29 years', 7: '30-34 years', 8: '35-39 years', 9: '40-44 years', 10: '45-49 years', 11: '50-54 years', 12: '55-59 years', 13: '60-64 years', 14: '65 years and older'},\n",
    "    'GENDER': {1: 'Male', 2: 'Female'},\n",
    "    'RACE': {1: 'American Indian/Alaska Native', 2: 'Asian', 3: 'Black or African American', 4: 'Native Hawaiian or Other Pacific Islander', 5: 'White', 6: 'Some other race alone/two or more races'},    'ETHNIC': {1: 'Hispanic or Latino', 2: 'Not Hispanic or Latino'},\n",
    "    'ETHNIC': {1: 'Mexican', 2: 'Puerto Rican', 3: 'Other Hispanic or Latino origin', 4: 'Not of Hispanic or Latino origin'},\n",
    "    'EDUC': {1: 'Special education', 2: '0 to 8', 3: '9 to 11', 4: '12 (or GED)', 5: 'More than 12'},\n",
    "    'VETERAN': {1: 'Yes', 2: 'No'},\n",
    "\n",
    "    # Treatment Services and Institutions\n",
    "    'SPHSERVICE': {1: 'Yes', 2: 'No'},\n",
    "    'CMPSERVICE': {1: 'Yes', 2: 'No'},\n",
    "    'OPISERVICE': {1: 'Yes', 2: 'No'},\n",
    "    'RTCSERVICE': {1: 'Yes', 2: 'No'},\n",
    "    'IJSSERVICE': {1: 'Yes', 2: 'No'},\n",
    "\n",
    "    # Mental Health and Diagnosis\n",
    "    'SMISED': {1: 'SMI', 2: 'SED and/or at risk for SED', 3: 'Not SMI/SED'},\n",
    "    'SAP': {1: 'Yes', 2: 'No'},\n",
    "    'SUB': {1: 'Alcohol-induced disorder', 2: 'Alcohol intoxication', 3: 'Substance-induced disorder', 4: 'Alcohol dependence', 5: 'Cocaine dependence', 6: 'Cannabis dependence', 7: 'Opioid dependence', 8: 'Other substance dependence', 9: 'Alcohol abuse', 10: 'Cocaine abuse', 11: 'Cannabis abuse', 12: 'Opioid abuse', 13: 'Other substance related conditions'},\n",
    "    'MARSTAT': {1: 'Never married', 2: 'Now married', 3: 'Separated', 4: 'Divorced, widowed'},\n",
    "    'NUMMHS': {0: 'None', 1: 'One', 2: 'Two', 3: 'Three'},\n",
    "    'TRAUSTREFLG': {0: 'Disorder not reported', 1: 'Disorder reported'},\n",
    "    'ANXIETYFLG': {0: 'Disorder not reported', 1: 'Disorder reported'},\n",
    "    'ADHDFLG': {0: 'Disorder not reported', 1: 'Disorder reported'},\n",
    "    'CONDUCTFLG': {0: 'Disorder not reported', 1: 'Disorder reported'},\n",
    "    'DELIRDEMFLG': {0: 'Disorder not reported', 1: 'Disorder reported'},\n",
    "    'BIPOLARFLG': {0: 'Disorder not reported', 1: 'Disorder reported'},\n",
    "    'DEPRESSFLG': {0: 'Disorder not reported', 1: 'Disorder reported'}, ### target y\n",
    "    'ODDFLG': {0: 'Disorder not reported', 1: 'Disorder reported'},\n",
    "    'PDDFLG': {0: 'Disorder not reported', 1: 'Disorder reported'},\n",
    "    'PERSONFLG': {0: 'Disorder not reported', 1: 'Disorder reported'},\n",
    "    'SCHIZOFLG': {0: 'Disorder not reported', 1: 'Disorder reported'},\n",
    "    'ALCSUBFLG': {0: 'Disorder not reported', 1: 'Disorder reported'},\n",
    "    'OTHERDISFLG': {0: 'Disorder not reported', 1: 'Disorder reported'},\n",
    "\n",
    "    # Socioeconomic and Living Conditions\n",
    "    'EMPLOY': {1: 'Full-time', 2: 'Part-time', 3: 'Employed full-time/part-time not differentiated', 4: 'Unemployed', 5: 'Not in labor force'},\n",
    "    'DETNLF': {1: 'Retired, disabled', 2: 'Student', 3: 'Homemaker', 4: 'Sheltered/non-competitive employment', 5: 'Other'},\n",
    "    'LIVARAG': {1: 'Experiencing Homelessness', 2: 'Private residence', 3: 'Other'},\n",
    "\n",
    "    # Regional Information\n",
    "    'STATEFIP': {1: 'Alabama', 2: 'Alaska', 4: 'Arizona', 5: 'Arkansas', 6: 'California', 8: 'Colorado', \n",
    "                9: 'Connecticut', 10: 'Delaware', 11: 'District of Columbia', 12: 'Florida', 13: 'Georgia', 15: 'Hawaii', \n",
    "                16: 'Idaho', 17: 'Illinois', 18: 'Indiana', 19: 'Iowa', 20: 'Kansas', 21: 'Kentucky', \n",
    "                22: 'Louisiana', 24: 'Maryland', 25: 'Massachusetts', 26: 'Michigan', 27: 'Minnesota', \n",
    "                28: 'Mississippi', 29: 'Missouri', 30: 'Montana', 31: 'Nebraska', 32: 'Nevada', \n",
    "                33: 'New Hampshire', 34: 'New Jersey', 35: 'New Mexico', 36: 'New York', 37: 'North Carolina', \n",
    "                38: 'North Dakota', 39: 'Ohio', 40: 'Oklahoma', 41: 'Oregon', 42: 'Pennsylvania', 44: 'Rhode Island', \n",
    "                45: 'South Carolina', 46: 'South Dakota', 47: 'Tennessee', 48: 'Texas', 49: 'Utah', \n",
    "                50: 'Vermont', 51: 'Virginia', 53: 'Washington', 54: 'West Virginia', 55: 'Wisconsin', \n",
    "                56: 'Wyoming', 72: 'Puerto Rico', 99: 'Other jurisdictions'},\n",
    "    'DIVISION': {0: 'Other jurisdictions', 1: 'New England', 2: 'Middle Atlantic', 3: 'East North Central', 4: 'West North Central', \n",
    "                 5: 'South Atlantic', 6: 'East South Central', 7: 'West South Central', 8: 'Mountain', 9: 'Pacific'},\n",
    "    'REGION': {0: 'Other jurisdictions', 1: 'Northeast', 2: 'Midwest', 3: 'South', 4: 'West'},\n",
    "}"
   ]
  },
  {
   "cell_type": "code",
   "execution_count": 7,
   "metadata": {},
   "outputs": [],
   "source": [
    "def map_to_text(data, mapping_dict):\n",
    "    for column, mapping in mapping_dict.items():\n",
    "        if column in data.columns:\n",
    "            data[column] = data[column].map(mapping)\n",
    "    return data"
   ]
  },
  {
   "cell_type": "code",
   "execution_count": 8,
   "metadata": {},
   "outputs": [],
   "source": [
    "train_data_text = map_to_text(train_data.copy(), mapping_dict)\n",
    "validation_data_text = map_to_text(validation_data.copy(), mapping_dict)\n",
    "test_data_text = map_to_text(test_data.copy(), mapping_dict)"
   ]
  },
  {
   "cell_type": "code",
   "execution_count": 9,
   "metadata": {},
   "outputs": [],
   "source": [
    "# Data Preprocessing\n",
    "# Variable Preprocessing-bianry\n",
    "binary_columns = [\n",
    "    'VETERAN', 'SPHSERVICE', 'CMPSERVICE', 'OPISERVICE', 'RTCSERVICE', 'IJSSERVICE',\n",
    "    'SAP', 'TRAUSTREFLG', 'ANXIETYFLG', 'ADHDFLG', 'CONDUCTFLG', 'DELIRDEMFLG', \n",
    "    'BIPOLARFLG', 'DEPRESSFLG', 'ODDFLG', 'PDDFLG', 'PERSONFLG', 'SCHIZOFLG', \n",
    "    'ALCSUBFLG', 'OTHERDISFLG'\n",
    "]\n",
    "\n",
    "for column in binary_columns:\n",
    "    for data in [train_data_text, validation_data_text, test_data_text]:\n",
    "        if column in data.columns:\n",
    "            data[column] = data[column].apply(lambda x: 1 if 'Yes' in x or 'Disorder reported' in x else 0)"
   ]
  },
  {
   "cell_type": "code",
   "execution_count": 10,
   "metadata": {},
   "outputs": [],
   "source": [
    "# Variable Preprocessing-numerical\n",
    "num_columns = ['NUMMHS']\n",
    "\n",
    "num_mappings = {\n",
    "    'NUMMHS': {'None': 0, 'One': 1, 'Two': 2, 'Three': 3}\n",
    "}\n",
    "\n",
    "for column in num_columns:\n",
    "    for data in [train_data_text, validation_data_text, test_data_text]:\n",
    "        if column in data.columns:\n",
    "            data[column] = data[column].map(num_mappings[column])"
   ]
  },
  {
   "cell_type": "code",
   "execution_count": 11,
   "metadata": {},
   "outputs": [],
   "source": [
    "# Variable Preprocessing-categorical\n",
    "all_columns = train_data_text.columns\n",
    "remaining_columns = [col for col in all_columns if col not in num_columns + binary_columns]\n",
    "\n",
    "for data in [train_data_text, validation_data_text, test_data_text]:\n",
    "    data = pd.get_dummies(data, columns=remaining_columns, drop_first=True)"
   ]
  },
  {
   "cell_type": "code",
   "execution_count": 12,
   "metadata": {},
   "outputs": [],
   "source": [
    "# Test the data\n",
    "assert train_data_text.columns.equals(validation_data_text.columns)\n",
    "assert train_data_text.columns.equals(test_data_text.columns)"
   ]
  },
  {
   "cell_type": "code",
   "execution_count": 13,
   "metadata": {},
   "outputs": [],
   "source": [
    "# X and y split\n",
    "y_train = train_data_text['DEPRESSFLG']\n",
    "y_val = validation_data_text['DEPRESSFLG']\n",
    "y_test = test_data_text['DEPRESSFLG']\n",
    "\n",
    "X_train = train_data_text.drop(columns=['DEPRESSFLG'])\n",
    "X_val = validation_data_text.drop(columns=['DEPRESSFLG'])\n",
    "X_test = test_data_text.drop(columns=['DEPRESSFLG'])"
   ]
  },
  {
   "cell_type": "code",
   "execution_count": 14,
   "metadata": {},
   "outputs": [],
   "source": [
    "# # index is not continuous because we only consider totally valid case, so we need to reset index\n",
    "# y_train = y_train.reset_index(drop=True)\n",
    "# y_val = y_val.reset_index(drop=True)\n",
    "# y_test = y_test.reset_index(drop=True)\n",
    "\n",
    "# X_train = X_train.reset_index(drop=True)\n",
    "# X_val = X_val.reset_index(drop=True)\n",
    "# X_test = X_test.reset_index(drop=True)"
   ]
  },
  {
   "cell_type": "code",
   "execution_count": 15,
   "metadata": {},
   "outputs": [
    {
     "name": "stdout",
     "output_type": "stream",
     "text": [
      "Duplicate rows between train and validation: 0\n",
      "Duplicate rows between train and test: 0\n",
      "Duplicate rows between validation and test: 0\n"
     ]
    }
   ],
   "source": [
    "# Check for duplicate rows between train, validation, and test sets\n",
    "duplicate_train_val = pd.merge(train_data, validation_data, how='inner')\n",
    "duplicate_train_test = pd.merge(train_data, test_data, how='inner')\n",
    "duplicate_val_test = pd.merge(validation_data, test_data, how='inner')\n",
    "\n",
    "print(\"Duplicate rows between train and validation:\", len(duplicate_train_val))\n",
    "print(\"Duplicate rows between train and test:\", len(duplicate_train_test))\n",
    "print(\"Duplicate rows between validation and test:\", len(duplicate_val_test))\n"
   ]
  },
  {
   "cell_type": "code",
   "execution_count": 16,
   "metadata": {},
   "outputs": [
    {
     "name": "stdout",
     "output_type": "stream",
     "text": [
      "<class 'pandas.core.frame.DataFrame'>\n",
      "RangeIndex: 70840 entries, 0 to 70839\n",
      "Data columns (total 34 columns):\n",
      " #   Column       Non-Null Count  Dtype \n",
      "---  ------       --------------  ----- \n",
      " 0   AGE          70840 non-null  object\n",
      " 1   EDUC         70840 non-null  object\n",
      " 2   ETHNIC       70840 non-null  object\n",
      " 3   RACE         70840 non-null  object\n",
      " 4   GENDER       70840 non-null  object\n",
      " 5   SPHSERVICE   70840 non-null  int64 \n",
      " 6   CMPSERVICE   70840 non-null  int64 \n",
      " 7   OPISERVICE   70840 non-null  int64 \n",
      " 8   RTCSERVICE   70840 non-null  int64 \n",
      " 9   IJSSERVICE   70840 non-null  int64 \n",
      " 10  SUB          70840 non-null  object\n",
      " 11  MARSTAT      70840 non-null  object\n",
      " 12  SMISED       70840 non-null  object\n",
      " 13  SAP          70840 non-null  int64 \n",
      " 14  NUMMHS       70840 non-null  int64 \n",
      " 15  EMPLOY       70840 non-null  object\n",
      " 16  DETNLF       70840 non-null  object\n",
      " 17  VETERAN      70840 non-null  int64 \n",
      " 18  LIVARAG      70840 non-null  object\n",
      " 19  TRAUSTREFLG  70840 non-null  int64 \n",
      " 20  ANXIETYFLG   70840 non-null  int64 \n",
      " 21  ADHDFLG      70840 non-null  int64 \n",
      " 22  CONDUCTFLG   70840 non-null  int64 \n",
      " 23  DELIRDEMFLG  70840 non-null  int64 \n",
      " 24  BIPOLARFLG   70840 non-null  int64 \n",
      " 25  ODDFLG       70840 non-null  int64 \n",
      " 26  PDDFLG       70840 non-null  int64 \n",
      " 27  PERSONFLG    70840 non-null  int64 \n",
      " 28  SCHIZOFLG    70840 non-null  int64 \n",
      " 29  ALCSUBFLG    70840 non-null  int64 \n",
      " 30  OTHERDISFLG  70840 non-null  int64 \n",
      " 31  STATEFIP     70840 non-null  object\n",
      " 32  DIVISION     70840 non-null  object\n",
      " 33  REGION       70840 non-null  object\n",
      "dtypes: int64(20), object(14)\n",
      "memory usage: 18.4+ MB\n",
      "None\n"
     ]
    }
   ],
   "source": [
    "print(X_train.info())"
   ]
  },
  {
   "cell_type": "code",
   "execution_count": 17,
   "metadata": {},
   "outputs": [
    {
     "name": "stdout",
     "output_type": "stream",
     "text": [
      "           AGE          EDUC                            ETHNIC  \\\n",
      "0  25-29 years       9 to 11  Not of Hispanic or Latino origin   \n",
      "1  35-39 years       9 to 11  Not of Hispanic or Latino origin   \n",
      "2  40-44 years  More than 12  Not of Hispanic or Latino origin   \n",
      "3  60-64 years  More than 12  Not of Hispanic or Latino origin   \n",
      "4  35-39 years   12 (or GED)  Not of Hispanic or Latino origin   \n",
      "\n",
      "                        RACE  GENDER  SPHSERVICE  CMPSERVICE  OPISERVICE  \\\n",
      "0                      White    Male           0           1           1   \n",
      "1  Black or African American  Female           0           1           0   \n",
      "2                      White  Female           1           1           0   \n",
      "3                      White    Male           0           1           0   \n",
      "4                      White    Male           0           1           0   \n",
      "\n",
      "   RTCSERVICE  IJSSERVICE  ... BIPOLARFLG ODDFLG PDDFLG  PERSONFLG  SCHIZOFLG  \\\n",
      "0           0           0  ...          1      0      0          0          0   \n",
      "1           0           0  ...          0      0      0          0          0   \n",
      "2           0           0  ...          0      0      0          0          1   \n",
      "3           0           0  ...          0      0      0          1          0   \n",
      "4           0           0  ...          1      0      0          0          0   \n",
      "\n",
      "  ALCSUBFLG OTHERDISFLG        STATEFIP            DIVISION   REGION  \n",
      "0         0           0        Michigan  East North Central  Midwest  \n",
      "1         0           0        Michigan  East North Central  Midwest  \n",
      "2         1           0  South Carolina      South Atlantic    South  \n",
      "3         0           1        Michigan  East North Central  Midwest  \n",
      "4         0           0        Maryland      South Atlantic    South  \n",
      "\n",
      "[5 rows x 34 columns]\n"
     ]
    }
   ],
   "source": [
    "print(X_train.head())"
   ]
  },
  {
   "cell_type": "markdown",
   "metadata": {},
   "source": [
    "## SVM without NUMMHS"
   ]
  },
  {
   "cell_type": "code",
   "execution_count": 21,
   "metadata": {},
   "outputs": [
    {
     "name": "stdout",
     "output_type": "stream",
     "text": [
      "Confusion Matrix:\n",
      "[[16089  2975]\n",
      " [ 2682  6590]]\n",
      "\n",
      "Classification Report:\n",
      "              precision    recall  f1-score   support\n",
      "\n",
      "           0       0.86      0.84      0.85     19064\n",
      "           1       0.69      0.71      0.70      9272\n",
      "\n",
      "    accuracy                           0.80     28336\n",
      "   macro avg       0.77      0.78      0.78     28336\n",
      "weighted avg       0.80      0.80      0.80     28336\n",
      "\n",
      "\n",
      "Accuracy Score:\n",
      "0.8003599661208357\n"
     ]
    }
   ],
   "source": [
    "from sklearn.svm import SVC\n",
    "from sklearn.metrics import classification_report, confusion_matrix, accuracy_score\n",
    "from sklearn.preprocessing import LabelEncoder\n",
    "import pandas as pd\n",
    "\n",
    "# Combine all data for consistent label encoding\n",
    "all_data = pd.concat([X_train, X_val, X_test])\n",
    "\n",
    "# Ensure all categorical columns are of string type\n",
    "categorical_columns = all_data.select_dtypes(include=['object']).columns\n",
    "for col in categorical_columns:\n",
    "    all_data[col] = all_data[col].astype(str)\n",
    "\n",
    "# Label encoding for categorical variables\n",
    "label_encoder = LabelEncoder()\n",
    "for col in categorical_columns:\n",
    "    all_data[col] = label_encoder.fit_transform(all_data[col])\n",
    "\n",
    "# Split the data back into training, validation, and test sets\n",
    "X_train = all_data.iloc[:len(X_train)]\n",
    "X_val = all_data.iloc[len(X_train):len(X_train) + len(X_val)]\n",
    "X_test = all_data.iloc[len(X_train) + len(X_val):]\n",
    "\n",
    "# One-hot encoding for categorical variables if needed\n",
    "X_train = pd.get_dummies(X_train, drop_first=True)\n",
    "X_val = pd.get_dummies(X_val, drop_first=True)\n",
    "X_test = pd.get_dummies(X_test, drop_first=True)\n",
    "\n",
    "# Align test and validation sets with the training set\n",
    "X_val = X_val.reindex(columns=X_train.columns, fill_value=0)\n",
    "X_test = X_test.reindex(columns=X_train.columns, fill_value=0)\n",
    "\n",
    "# Remove the NUMMHS variable from the training, validation, and test sets\n",
    "X_train = X_train.drop(columns=['NUMMHS'], errors='ignore')\n",
    "X_val = X_val.drop(columns=['NUMMHS'], errors='ignore')\n",
    "X_test = X_test.drop(columns=['NUMMHS'], errors='ignore')\n",
    "\n",
    "# Create and train the SVM model\n",
    "svm_model = SVC(kernel='linear', random_state=42)\n",
    "svm_model.fit(X_train, y_train)\n",
    "\n",
    "# Evaluate the model on the test set\n",
    "y_pred = svm_model.predict(X_test)\n",
    "\n",
    "# Print evaluation metrics\n",
    "print(\"Confusion Matrix:\")\n",
    "print(confusion_matrix(y_test, y_pred))\n",
    "print(\"\\nClassification Report:\")\n",
    "print(classification_report(y_test, y_pred))\n",
    "print(\"\\nAccuracy Score:\")\n",
    "print(accuracy_score(y_test, y_pred))\n"
   ]
  },
  {
   "cell_type": "markdown",
   "metadata": {},
   "source": [
    "### Interpretation of Results:\n",
    "\n",
    "#### Accuracy:\n",
    "- The overall accuracy of the model is 0.80 (80%). This means that 80% of the predictions made by the model were correct across all classes.\n",
    "##### Interpretation:\n",
    "The model performs quite well with 80% accuracy overall.\n",
    "\n",
    "- **Class 0 (negative class)** has a high precision (0.86), meaning the model is good at correctly identifying negatives.\n",
    "- **Class 1 (positive class)** has a recall of 0.71, which indicates there are still missed positive cases.\n",
    "- **The macro and weighted averages** show a balanced view of the model’s performance across classes, with the weighted average matching the overall accuracy.\n",
    "\n",
    "#### Test Set Classification Report:\n",
    "- **Precision:** Indicates how well the model is at identifying positives. For class 0, it is 0.86, meaning 86% of predicted positives were actually positive.\n",
    "- **Recall (Sensitivity or True Positive Rate):** Shows the ability of the model to detect actual positives. For class 1, it is 0.71, meaning 71% of actual positives were detected.\n",
    "- **F1-score:** A balance between precision and recall. It considers both false positives and false negatives.\n",
    "- **Support:** The number of actual occurrences for each class in the dataset.\n",
    "- **Macro Avg:** The average of precision, recall, and F1-score across all classes.\n",
    "- **Weighted Avg:** Weighted average across classes to provide an overall model performance metric, considering class imbalance.\n",
    "\n",
    "#### Confusion Matrix (Test Set)\n",
    "True Positives (TP): 6590 — The model correctly predicted positive cases (class 1).\n",
    "False Positives (FP): 2975 — The model incorrectly predicted positive when it was actually negative (class 0).\n",
    "True Negatives (TN): 16089 — The model correctly predicted negative cases (class 0).\n",
    "False Negatives (FN): 2682 — The model incorrectly predicted negative when it was actually positive (class 1)."
   ]
  },
  {
   "cell_type": "markdown",
   "metadata": {},
   "source": [
    "### Feature Importance"
   ]
  },
  {
   "cell_type": "code",
   "execution_count": 22,
   "metadata": {},
   "outputs": [
    {
     "name": "stdout",
     "output_type": "stream",
     "text": [
      "Top 10 Features (sorted by importance):\n",
      "SCHIZOFLG      2.000091\n",
      "BIPOLARFLG     2.000069\n",
      "OTHERDISFLG    1.999922\n",
      "CONDUCTFLG     1.999104\n",
      "ODDFLG         1.000380\n",
      "SMISED         0.999915\n",
      "PDDFLG         0.000803\n",
      "IJSSERVICE     0.000399\n",
      "ADHDFLG        0.000144\n",
      "ALCSUBFLG      0.000134\n",
      "dtype: float64\n"
     ]
    }
   ],
   "source": [
    "# Retrieve feature coefficients for the linear SVM model\n",
    "feature_importance = pd.Series(svm_model.coef_[0], index=X_train.columns)\n",
    "\n",
    "# Sort features by their absolute importance in descending order\n",
    "top_features = feature_importance.abs().sort_values(ascending=False).head(10)\n",
    "\n",
    "# Display the top 10 features along with their importance scores\n",
    "print(\"Top 10 Features (sorted by importance):\")\n",
    "print(top_features)\n"
   ]
  },
  {
   "cell_type": "code",
   "execution_count": 23,
   "metadata": {},
   "outputs": [
    {
     "data": {
      "image/png": "[encoded data removed]",
      "text/plain": [
       "<Figure size 1000x600 with 1 Axes>"
      ]
     },
     "metadata": {},
     "output_type": "display_data"
    }
   ],
   "source": [
    "import matplotlib.pyplot as plt\n",
    "\n",
    "# Plotting the top features\n",
    "plt.figure(figsize=(10, 6))\n",
    "top_features.plot(kind='barh', color='skyblue')\n",
    "plt.title('Top 10 Features by Importance')\n",
    "plt.xlabel('Importance Score')\n",
    "plt.ylabel('Features')\n",
    "plt.gca().invert_yaxis()  # Invert y-axis to have the highest importance on top\n",
    "plt.show()"
   ]
  },
  {
   "cell_type": "markdown",
   "metadata": {},
   "source": [
    "- Higher values of feature importance (e.g., SCHIZOFLG, BIPOLARFLG, OTHERDISFLG, CONDUCTFLG) highlight features with strong predictive power. These features are good indicators of the target class and should be monitored closely when interpreting the model’s predictions.\n",
    "- Lower values (e.g., ADHDFLG, ALCSUBFLG) indicate features with minimal impact on the model’s decisions. While they might still contribute, their effect is less pronounced compared to higher-ranked features."
   ]
  },
  {
   "cell_type": "code",
   "execution_count": null,
   "metadata": {},
   "outputs": [],
   "source": []
  }
 ],
 "metadata": {
  "kernelspec": {
   "display_name": "Python 3 (ipykernel)",
   "language": "python",
   "name": "python3"
  },
  "language_info": {
   "codemirror_mode": {
    "name": "ipython",
    "version": 3
   },
   "file_extension": ".py",
   "mimetype": "text/x-python",
   "name": "python",
   "nbconvert_exporter": "python",
   "pygments_lexer": "ipython3",
   "version": "3.11.5"
  }
 },
 "nbformat": 4,
 "nbformat_minor": 2
}
